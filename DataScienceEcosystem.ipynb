{
 "cells": [
  {
   "metadata": {},
   "cell_type": "markdown",
   "source": "# Data Science Tools and Ecosystem",
   "id": "717044a5cb459fbe"
  },
  {
   "metadata": {},
   "cell_type": "markdown",
   "source": [
    "## In this notebook, Data Science Tools and Ecosystem are summarized.\n",
    "\n"
   ],
   "id": "791a777f5ef874f8"
  },
  {
   "metadata": {},
   "cell_type": "markdown",
   "source": [
    "**Objectives:**\n",
    "\n",
    "- List popular languages for Data Science\n",
    "- Identify commonly used libraries in Data Science\n",
    "- Demonstrate arithmetic expression evaluation in Python\n",
    "- Discuss open-source tools used for Data Science development environments\n",
    "- Understand the importance of using the right tools for Data Science projects"
   ],
   "id": "72cffb5a90e7f6f2"
  },
  {
   "metadata": {},
   "cell_type": "markdown",
   "source": [
    "### Some of the popular languages that Data Scientists use are:\n",
    "1. Python\n",
    "2. R\n",
    "3. SQL\n",
    "4. Julia\n",
    "5. Scala\n"
   ],
   "id": "3e561e1828a6104f"
  },
  {
   "metadata": {},
   "cell_type": "markdown",
   "source": [
    "## Some of the commonly used libraries used by Data Scientists include:\n",
    "1. **NumPy**\n",
    "2. **Pandas**\n",
    "3. **Matplotlib**\n",
    "4. **Scikit-learn**\n",
    "5. **TensorFlow**"
   ],
   "id": "71050667bd8dd60e"
  },
  {
   "metadata": {},
   "cell_type": "raw",
   "source": "",
   "id": "b93cee1807dd2bc3"
  },
  {
   "metadata": {},
   "cell_type": "markdown",
   "source": [
    "| **Data Science Tools** |\n",
    "|------------------------|\n",
    "| Jupyter Notebook       |\n",
    "| RStudio                |\n",
    "| Apache Zeppelin        |"
   ],
   "id": "8af5c8d1186f584c"
  },
  {
   "metadata": {},
   "cell_type": "markdown",
   "source": [
    "### Below are a few examples of evaluating arithmetic expressions in Python.\n",
    "\n",
    "You can use Python to perform basic arithmetic operations like addition, subtraction, multiplication, and division. Here are some examples:"
   ],
   "id": "2dc74677bd1985fe"
  },
  {
   "metadata": {
    "ExecuteTime": {
     "end_time": "2025-01-30T18:22:37.686285Z",
     "start_time": "2025-01-30T18:22:37.647237Z"
    }
   },
   "cell_type": "code",
   "source": [
    "#This a simple arithmetic expression to multiply then add integers\n",
    "(3*4)+5"
   ],
   "id": "9bb4d1b1d9a83234",
   "outputs": [
    {
     "data": {
      "text/plain": [
       "17"
      ]
     },
     "execution_count": 2,
     "metadata": {},
     "output_type": "execute_result"
    }
   ],
   "execution_count": 2
  },
  {
   "metadata": {
    "ExecuteTime": {
     "end_time": "2025-01-30T18:24:27.570545Z",
     "start_time": "2025-01-30T18:24:27.556134Z"
    }
   },
   "cell_type": "code",
   "source": [
    "#This will convert 200 minutes to hours by diving by 60\n",
    "200/60"
   ],
   "id": "422410c5f3a8ed2b",
   "outputs": [
    {
     "data": {
      "text/plain": [
       "3.3333333333333335"
      ]
     },
     "execution_count": 3,
     "metadata": {},
     "output_type": "execute_result"
    }
   ],
   "execution_count": 3
  },
  {
   "metadata": {},
   "cell_type": "code",
   "outputs": [],
   "execution_count": null,
   "source": "",
   "id": "9d2c4b75e56d6426"
  },
  {
   "metadata": {},
   "cell_type": "markdown",
   "source": [
    "## Author\n",
    "Tarek Ahmed"
   ],
   "id": "395f04afc194ed70"
  },
  {
   "metadata": {},
   "cell_type": "code",
   "outputs": [],
   "execution_count": null,
   "source": "",
   "id": "ddc1baba1c925a4c"
  }
 ],
 "metadata": {
  "kernelspec": {
   "name": "python3",
   "language": "python",
   "display_name": "Python 3 (ipykernel)"
  }
 },
 "nbformat": 5,
 "nbformat_minor": 9
}
